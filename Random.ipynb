{
 "cells": [
  {
   "cell_type": "code",
   "execution_count": 1,
   "metadata": {
    "collapsed": true
   },
   "outputs": [],
   "source": [
    "%matplotlib inline\n",
    "import matplotlib.pyplot as plt\n",
    "import pandas as pd\n",
    "import numpy as np\n"
   ]
  },
  {
   "cell_type": "code",
   "execution_count": 2,
   "metadata": {
    "collapsed": true
   },
   "outputs": [],
   "source": [
    "df = pd.read_csv('ExportedRecords.csv', names=['Appointment_ID', 'Appointment_Start_time', 'Appointment_End_time', 'Provider_ID', 'Customer_ID'])"
   ]
  },
  {
   "cell_type": "code",
   "execution_count": 96,
   "metadata": {
    "collapsed": false
   },
   "outputs": [
    {
     "data": {
      "text/html": [
       "<div>\n",
       "<table border=\"1\" class=\"dataframe\">\n",
       "  <thead>\n",
       "    <tr style=\"text-align: right;\">\n",
       "      <th></th>\n",
       "      <th>Appointment_ID</th>\n",
       "      <th>Appointment_Start_time</th>\n",
       "      <th>Appointment_End_time</th>\n",
       "      <th>Provider_ID</th>\n",
       "      <th>Customer_ID</th>\n",
       "    </tr>\n",
       "  </thead>\n",
       "  <tbody>\n",
       "    <tr>\n",
       "      <th>0</th>\n",
       "      <td>1</td>\n",
       "      <td>2014-01-01 15:00:00.000</td>\n",
       "      <td>2014-01-02 03:00:00.000</td>\n",
       "      <td>77.0</td>\n",
       "      <td>91.0</td>\n",
       "    </tr>\n",
       "    <tr>\n",
       "      <th>1</th>\n",
       "      <td>2</td>\n",
       "      <td>2014-01-01 15:00:00.000</td>\n",
       "      <td>2014-01-01 23:00:00.000</td>\n",
       "      <td>76.0</td>\n",
       "      <td>235.0</td>\n",
       "    </tr>\n",
       "    <tr>\n",
       "      <th>2</th>\n",
       "      <td>3</td>\n",
       "      <td>2014-01-01 16:00:00.000</td>\n",
       "      <td>2014-01-02 03:45:00.000</td>\n",
       "      <td>75.0</td>\n",
       "      <td>120.0</td>\n",
       "    </tr>\n",
       "    <tr>\n",
       "      <th>3</th>\n",
       "      <td>4</td>\n",
       "      <td>2014-01-01 17:00:00.000</td>\n",
       "      <td>2014-01-01 22:00:00.000</td>\n",
       "      <td>104.0</td>\n",
       "      <td>80.0</td>\n",
       "    </tr>\n",
       "    <tr>\n",
       "      <th>4</th>\n",
       "      <td>5</td>\n",
       "      <td>2014-01-01 15:00:00.000</td>\n",
       "      <td>2014-01-01 22:00:00.000</td>\n",
       "      <td>65.0</td>\n",
       "      <td>106.0</td>\n",
       "    </tr>\n",
       "  </tbody>\n",
       "</table>\n",
       "</div>"
      ],
      "text/plain": [
       "   Appointment_ID   Appointment_Start_time     Appointment_End_time  \\\n",
       "0               1  2014-01-01 15:00:00.000  2014-01-02 03:00:00.000   \n",
       "1               2  2014-01-01 15:00:00.000  2014-01-01 23:00:00.000   \n",
       "2               3  2014-01-01 16:00:00.000  2014-01-02 03:45:00.000   \n",
       "3               4  2014-01-01 17:00:00.000  2014-01-01 22:00:00.000   \n",
       "4               5  2014-01-01 15:00:00.000  2014-01-01 22:00:00.000   \n",
       "\n",
       "   Provider_ID  Customer_ID  \n",
       "0         77.0         91.0  \n",
       "1         76.0        235.0  \n",
       "2         75.0        120.0  \n",
       "3        104.0         80.0  \n",
       "4         65.0        106.0  "
      ]
     },
     "execution_count": 96,
     "metadata": {},
     "output_type": "execute_result"
    }
   ],
   "source": [
    "df.head()"
   ]
  },
  {
   "cell_type": "code",
   "execution_count": 105,
   "metadata": {
    "collapsed": false
   },
   "outputs": [
    {
     "data": {
      "text/html": [
       "<div>\n",
       "<table border=\"1\" class=\"dataframe\">\n",
       "  <thead>\n",
       "    <tr style=\"text-align: right;\">\n",
       "      <th></th>\n",
       "      <th>Appointment_ID</th>\n",
       "      <th>Appointment_Start_time</th>\n",
       "      <th>Appointment_End_time</th>\n",
       "      <th>Provider_ID</th>\n",
       "      <th>Customer_ID</th>\n",
       "      <th>Appointment_Length</th>\n",
       "      <th>Only_Start_date</th>\n",
       "    </tr>\n",
       "  </thead>\n",
       "  <tbody>\n",
       "    <tr>\n",
       "      <th>14080594</th>\n",
       "      <td>14080595</td>\n",
       "      <td>2017-02-09 19:00:00</td>\n",
       "      <td>2017-02-10 01:00:00</td>\n",
       "      <td>144008.0</td>\n",
       "      <td>215240.0</td>\n",
       "      <td>06:00:00</td>\n",
       "      <td>2017-02-09</td>\n",
       "    </tr>\n",
       "    <tr>\n",
       "      <th>14080595</th>\n",
       "      <td>14080596</td>\n",
       "      <td>2017-02-08 19:00:00</td>\n",
       "      <td>2017-02-08 20:00:00</td>\n",
       "      <td>127344.0</td>\n",
       "      <td>158671.0</td>\n",
       "      <td>01:00:00</td>\n",
       "      <td>2017-02-08</td>\n",
       "    </tr>\n",
       "    <tr>\n",
       "      <th>14080596</th>\n",
       "      <td>14080597</td>\n",
       "      <td>2017-02-09 23:00:00</td>\n",
       "      <td>2017-02-10 00:00:00</td>\n",
       "      <td>118409.0</td>\n",
       "      <td>219549.0</td>\n",
       "      <td>01:00:00</td>\n",
       "      <td>2017-02-09</td>\n",
       "    </tr>\n",
       "    <tr>\n",
       "      <th>14080597</th>\n",
       "      <td>14080598</td>\n",
       "      <td>2017-02-10 01:00:00</td>\n",
       "      <td>2017-02-10 13:00:00</td>\n",
       "      <td>127341.0</td>\n",
       "      <td>186983.0</td>\n",
       "      <td>12:00:00</td>\n",
       "      <td>2017-02-10</td>\n",
       "    </tr>\n",
       "    <tr>\n",
       "      <th>14080598</th>\n",
       "      <td>14080599</td>\n",
       "      <td>2017-02-09 20:00:00</td>\n",
       "      <td>2017-02-10 04:00:00</td>\n",
       "      <td>175864.0</td>\n",
       "      <td>235603.0</td>\n",
       "      <td>08:00:00</td>\n",
       "      <td>2017-02-09</td>\n",
       "    </tr>\n",
       "  </tbody>\n",
       "</table>\n",
       "</div>"
      ],
      "text/plain": [
       "          Appointment_ID Appointment_Start_time Appointment_End_time  \\\n",
       "14080594        14080595    2017-02-09 19:00:00  2017-02-10 01:00:00   \n",
       "14080595        14080596    2017-02-08 19:00:00  2017-02-08 20:00:00   \n",
       "14080596        14080597    2017-02-09 23:00:00  2017-02-10 00:00:00   \n",
       "14080597        14080598    2017-02-10 01:00:00  2017-02-10 13:00:00   \n",
       "14080598        14080599    2017-02-09 20:00:00  2017-02-10 04:00:00   \n",
       "\n",
       "          Provider_ID  Customer_ID  Appointment_Length Only_Start_date  \n",
       "14080594     144008.0     215240.0            06:00:00      2017-02-09  \n",
       "14080595     127344.0     158671.0            01:00:00      2017-02-08  \n",
       "14080596     118409.0     219549.0            01:00:00      2017-02-09  \n",
       "14080597     127341.0     186983.0            12:00:00      2017-02-10  \n",
       "14080598     175864.0     235603.0            08:00:00      2017-02-09  "
      ]
     },
     "execution_count": 105,
     "metadata": {},
     "output_type": "execute_result"
    }
   ],
   "source": [
    "df.tail()"
   ]
  },
  {
   "cell_type": "code",
   "execution_count": 98,
   "metadata": {
    "collapsed": false
   },
   "outputs": [],
   "source": [
    "from datetime import datetime as dt\n",
    "\n",
    "f = lambda x: datetime.strptime(x, '%Y-%m-%d %H:%M:%S.%f')\n",
    "df.Appointment_Start_time = df.Appointment_Start_time.apply(f)\n",
    "df.Appointment_End_time = df.Appointment_End_time.apply(f)"
   ]
  },
  {
   "cell_type": "code",
   "execution_count": 99,
   "metadata": {
    "collapsed": false
   },
   "outputs": [],
   "source": [
    "df['Appointment_Length'] = df.Appointment_End_time - df.Appointment_Start_time"
   ]
  },
  {
   "cell_type": "code",
   "execution_count": 100,
   "metadata": {
    "collapsed": false
   },
   "outputs": [
    {
     "data": {
      "text/html": [
       "<div>\n",
       "<table border=\"1\" class=\"dataframe\">\n",
       "  <thead>\n",
       "    <tr style=\"text-align: right;\">\n",
       "      <th></th>\n",
       "      <th>Appointment_ID</th>\n",
       "      <th>Appointment_Start_time</th>\n",
       "      <th>Appointment_End_time</th>\n",
       "      <th>Provider_ID</th>\n",
       "      <th>Customer_ID</th>\n",
       "      <th>Appointment_Length</th>\n",
       "    </tr>\n",
       "  </thead>\n",
       "  <tbody>\n",
       "    <tr>\n",
       "      <th>0</th>\n",
       "      <td>1</td>\n",
       "      <td>2014-01-01 15:00:00</td>\n",
       "      <td>2014-01-02 03:00:00</td>\n",
       "      <td>77.0</td>\n",
       "      <td>91.0</td>\n",
       "      <td>12:00:00</td>\n",
       "    </tr>\n",
       "    <tr>\n",
       "      <th>1</th>\n",
       "      <td>2</td>\n",
       "      <td>2014-01-01 15:00:00</td>\n",
       "      <td>2014-01-01 23:00:00</td>\n",
       "      <td>76.0</td>\n",
       "      <td>235.0</td>\n",
       "      <td>08:00:00</td>\n",
       "    </tr>\n",
       "    <tr>\n",
       "      <th>2</th>\n",
       "      <td>3</td>\n",
       "      <td>2014-01-01 16:00:00</td>\n",
       "      <td>2014-01-02 03:45:00</td>\n",
       "      <td>75.0</td>\n",
       "      <td>120.0</td>\n",
       "      <td>11:45:00</td>\n",
       "    </tr>\n",
       "    <tr>\n",
       "      <th>3</th>\n",
       "      <td>4</td>\n",
       "      <td>2014-01-01 17:00:00</td>\n",
       "      <td>2014-01-01 22:00:00</td>\n",
       "      <td>104.0</td>\n",
       "      <td>80.0</td>\n",
       "      <td>05:00:00</td>\n",
       "    </tr>\n",
       "    <tr>\n",
       "      <th>4</th>\n",
       "      <td>5</td>\n",
       "      <td>2014-01-01 15:00:00</td>\n",
       "      <td>2014-01-01 22:00:00</td>\n",
       "      <td>65.0</td>\n",
       "      <td>106.0</td>\n",
       "      <td>07:00:00</td>\n",
       "    </tr>\n",
       "  </tbody>\n",
       "</table>\n",
       "</div>"
      ],
      "text/plain": [
       "   Appointment_ID Appointment_Start_time Appointment_End_time  Provider_ID  \\\n",
       "0               1    2014-01-01 15:00:00  2014-01-02 03:00:00         77.0   \n",
       "1               2    2014-01-01 15:00:00  2014-01-01 23:00:00         76.0   \n",
       "2               3    2014-01-01 16:00:00  2014-01-02 03:45:00         75.0   \n",
       "3               4    2014-01-01 17:00:00  2014-01-01 22:00:00        104.0   \n",
       "4               5    2014-01-01 15:00:00  2014-01-01 22:00:00         65.0   \n",
       "\n",
       "   Customer_ID  Appointment_Length  \n",
       "0         91.0            12:00:00  \n",
       "1        235.0            08:00:00  \n",
       "2        120.0            11:45:00  \n",
       "3         80.0            05:00:00  \n",
       "4        106.0            07:00:00  "
      ]
     },
     "execution_count": 100,
     "metadata": {},
     "output_type": "execute_result"
    }
   ],
   "source": [
    "df.head()"
   ]
  },
  {
   "cell_type": "code",
   "execution_count": 109,
   "metadata": {
    "collapsed": false
   },
   "outputs": [
    {
     "data": {
      "text/plain": [
       "Timedelta('0 days 04:37:54.981054')"
      ]
     },
     "execution_count": 109,
     "metadata": {},
     "output_type": "execute_result"
    }
   ],
   "source": [
    "df[\"Appointment_Length\"].mean()\n",
    "\n",
    "#The Average appointment time is about 4.5 hours "
   ]
  },
  {
   "cell_type": "code",
   "execution_count": 110,
   "metadata": {
    "collapsed": false
   },
   "outputs": [
    {
     "name": "stdout",
     "output_type": "stream",
     "text": [
      "RangeIndex(start=0, stop=14080599, step=1)\n"
     ]
    }
   ],
   "source": [
    "print(df.index)"
   ]
  },
  {
   "cell_type": "code",
   "execution_count": 111,
   "metadata": {
    "collapsed": false
   },
   "outputs": [],
   "source": [
    "df['Only_Start_date'] = df['Appointment_Start_time'].dt.date\n"
   ]
  },
  {
   "cell_type": "code",
   "execution_count": 112,
   "metadata": {
    "collapsed": false
   },
   "outputs": [
    {
     "data": {
      "text/html": [
       "<div>\n",
       "<table border=\"1\" class=\"dataframe\">\n",
       "  <thead>\n",
       "    <tr style=\"text-align: right;\">\n",
       "      <th></th>\n",
       "      <th>Appointment_ID</th>\n",
       "      <th>Appointment_Start_time</th>\n",
       "      <th>Appointment_End_time</th>\n",
       "      <th>Provider_ID</th>\n",
       "      <th>Customer_ID</th>\n",
       "      <th>Appointment_Length</th>\n",
       "      <th>Only_Start_date</th>\n",
       "    </tr>\n",
       "  </thead>\n",
       "  <tbody>\n",
       "    <tr>\n",
       "      <th>0</th>\n",
       "      <td>1</td>\n",
       "      <td>2014-01-01 15:00:00</td>\n",
       "      <td>2014-01-02 03:00:00</td>\n",
       "      <td>77.0</td>\n",
       "      <td>91.0</td>\n",
       "      <td>12:00:00</td>\n",
       "      <td>2014-01-01</td>\n",
       "    </tr>\n",
       "    <tr>\n",
       "      <th>1</th>\n",
       "      <td>2</td>\n",
       "      <td>2014-01-01 15:00:00</td>\n",
       "      <td>2014-01-01 23:00:00</td>\n",
       "      <td>76.0</td>\n",
       "      <td>235.0</td>\n",
       "      <td>08:00:00</td>\n",
       "      <td>2014-01-01</td>\n",
       "    </tr>\n",
       "    <tr>\n",
       "      <th>2</th>\n",
       "      <td>3</td>\n",
       "      <td>2014-01-01 16:00:00</td>\n",
       "      <td>2014-01-02 03:45:00</td>\n",
       "      <td>75.0</td>\n",
       "      <td>120.0</td>\n",
       "      <td>11:45:00</td>\n",
       "      <td>2014-01-01</td>\n",
       "    </tr>\n",
       "    <tr>\n",
       "      <th>3</th>\n",
       "      <td>4</td>\n",
       "      <td>2014-01-01 17:00:00</td>\n",
       "      <td>2014-01-01 22:00:00</td>\n",
       "      <td>104.0</td>\n",
       "      <td>80.0</td>\n",
       "      <td>05:00:00</td>\n",
       "      <td>2014-01-01</td>\n",
       "    </tr>\n",
       "    <tr>\n",
       "      <th>4</th>\n",
       "      <td>5</td>\n",
       "      <td>2014-01-01 15:00:00</td>\n",
       "      <td>2014-01-01 22:00:00</td>\n",
       "      <td>65.0</td>\n",
       "      <td>106.0</td>\n",
       "      <td>07:00:00</td>\n",
       "      <td>2014-01-01</td>\n",
       "    </tr>\n",
       "  </tbody>\n",
       "</table>\n",
       "</div>"
      ],
      "text/plain": [
       "   Appointment_ID Appointment_Start_time Appointment_End_time  Provider_ID  \\\n",
       "0               1    2014-01-01 15:00:00  2014-01-02 03:00:00         77.0   \n",
       "1               2    2014-01-01 15:00:00  2014-01-01 23:00:00         76.0   \n",
       "2               3    2014-01-01 16:00:00  2014-01-02 03:45:00         75.0   \n",
       "3               4    2014-01-01 17:00:00  2014-01-01 22:00:00        104.0   \n",
       "4               5    2014-01-01 15:00:00  2014-01-01 22:00:00         65.0   \n",
       "\n",
       "   Customer_ID  Appointment_Length Only_Start_date  \n",
       "0         91.0            12:00:00      2014-01-01  \n",
       "1        235.0            08:00:00      2014-01-01  \n",
       "2        120.0            11:45:00      2014-01-01  \n",
       "3         80.0            05:00:00      2014-01-01  \n",
       "4        106.0            07:00:00      2014-01-01  "
      ]
     },
     "execution_count": 112,
     "metadata": {},
     "output_type": "execute_result"
    }
   ],
   "source": [
    "df.head()"
   ]
  },
  {
   "cell_type": "code",
   "execution_count": 129,
   "metadata": {
    "collapsed": false
   },
   "outputs": [],
   "source": [
    "count=df['Only_Start_date'].value_counts()"
   ]
  },
  {
   "cell_type": "code",
   "execution_count": 130,
   "metadata": {
    "collapsed": false
   },
   "outputs": [
    {
     "data": {
      "text/plain": [
       "2016-09-30    19514\n",
       "2016-11-18    19509\n",
       "2016-09-23    19507\n",
       "2016-10-28    19501\n",
       "2016-09-16    19500\n",
       "Name: Only_Start_date, dtype: int64"
      ]
     },
     "execution_count": 130,
     "metadata": {},
     "output_type": "execute_result"
    }
   ],
   "source": [
    "count.head()"
   ]
  },
  {
   "cell_type": "code",
   "execution_count": null,
   "metadata": {
    "collapsed": false
   },
   "outputs": [],
   "source": []
  },
  {
   "cell_type": "code",
   "execution_count": null,
   "metadata": {
    "collapsed": true
   },
   "outputs": [],
   "source": []
  }
 ],
 "metadata": {
  "kernelspec": {
   "display_name": "Python 3",
   "language": "python",
   "name": "python3"
  },
  "language_info": {
   "codemirror_mode": {
    "name": "ipython",
    "version": 3
   },
   "file_extension": ".py",
   "mimetype": "text/x-python",
   "name": "python",
   "nbconvert_exporter": "python",
   "pygments_lexer": "ipython3",
   "version": "3.6.0"
  }
 },
 "nbformat": 4,
 "nbformat_minor": 0
}
